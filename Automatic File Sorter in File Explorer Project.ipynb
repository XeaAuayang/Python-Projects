{
 "cells": [
  {
   "cell_type": "markdown",
   "id": "da921f56-64d2-42a1-9325-825e6e10ff95",
   "metadata": {},
   "source": [
    "# Automatic File Sorter in File Explorer"
   ]
  },
  {
   "cell_type": "code",
   "execution_count": 36,
   "id": "ee75862d-c940-4a6e-a4b6-8d4583260f2f",
   "metadata": {},
   "outputs": [],
   "source": [
    "import os, shutil"
   ]
  },
  {
   "cell_type": "code",
   "execution_count": 38,
   "id": "7209e54a-e90f-43d1-9ef8-24a8ba846d75",
   "metadata": {},
   "outputs": [],
   "source": [
    "path = r\"C:/Users/Xea Bianca/Dropbox/PC/Downloads/Data Analytics Bootcamp/\""
   ]
  },
  {
   "cell_type": "code",
   "execution_count": 40,
   "id": "9a9809d1-208c-4c1a-9333-978725196449",
   "metadata": {},
   "outputs": [],
   "source": [
    "file_name = os.listdir(path)"
   ]
  },
  {
   "cell_type": "code",
   "execution_count": 42,
   "id": "603634b3-ec6f-4eca-a0ff-0d0a3d291444",
   "metadata": {},
   "outputs": [],
   "source": [
    "folder_names = ['Applications','Excel and CSV','SQL','Installer','Tableau']\n",
    "\n",
    "for loop in range(0,5):\n",
    "    if not os.path.exists(path + folder_names[loop]):\n",
    "        #print(path + folder_names[loop])\n",
    "        os.makedirs(path + folder_names[loop])\n",
    "\n",
    "for file in file_name:\n",
    "    if \".exe\" in file and not os.path.exists(path + \"Applications/\" + file):\n",
    "        shutil.move(path + file, path + \"Applications/\" + file)\n",
    "    elif \".xlsx\" in file and not os.path.exists(path + \"Excel and CSV/\" + file):\n",
    "        shutil.move(path + file, path + \"Excel and CSV/\" + file)\n",
    "    elif \".csv\" in file and not os.path.exists(path + \"Excel and CSV/\" + file):\n",
    "        shutil.move(path + file, path + \"Excel and CSV/\" + file)\n",
    "    elif \".sql\" in file and not os.path.exists(path + \"SQL/\" + file):\n",
    "        shutil.move(path + file, path + \"SQL/\" + file)\n",
    "    elif \".msi\" in file and not os.path.exists(path + \"Installer/\" + file):\n",
    "        shutil.move(path + file, path + \"Installer/\" + file)\n",
    "    elif \".twb\" in file and not os.path.exists(path + \"Tableau/\" + file):\n",
    "        shutil.move(path + file, path + \"Tableau/\" + file)"
   ]
  },
  {
   "cell_type": "code",
   "execution_count": 34,
   "id": "bd5f1bf5-4e9e-4692-9e18-9415118b5960",
   "metadata": {},
   "outputs": [
    {
     "name": "stdout",
     "output_type": "stream",
     "text": [
      "There are files in this path that were not moved.\n",
      "There are files in this path that were not moved.\n",
      "There are files in this path that were not moved.\n",
      "There are files in this path that were not moved.\n",
      "There are files in this path that were not moved.\n",
      "There are files in this path that were not moved.\n",
      "There are files in this path that were not moved.\n"
     ]
    }
   ],
   "source": []
  },
  {
   "cell_type": "code",
   "execution_count": null,
   "id": "2b15e09b-d93a-4c9b-aa4a-50fa55961953",
   "metadata": {},
   "outputs": [],
   "source": []
  },
  {
   "cell_type": "code",
   "execution_count": null,
   "id": "cd2ccb9b-108f-406f-a123-6a178d9eef51",
   "metadata": {},
   "outputs": [],
   "source": []
  },
  {
   "cell_type": "code",
   "execution_count": null,
   "id": "017fc160-6ca2-404c-babb-32c87c3bfa17",
   "metadata": {},
   "outputs": [],
   "source": []
  },
  {
   "cell_type": "code",
   "execution_count": null,
   "id": "a0212a20-ad01-42a7-86a1-84520891c04b",
   "metadata": {},
   "outputs": [],
   "source": []
  },
  {
   "cell_type": "code",
   "execution_count": null,
   "id": "873e2dac-84cd-4770-a73c-15d6378941f0",
   "metadata": {},
   "outputs": [],
   "source": []
  },
  {
   "cell_type": "code",
   "execution_count": null,
   "id": "5bac4cc0-9037-4250-ac9d-c73ec6e39802",
   "metadata": {},
   "outputs": [],
   "source": []
  },
  {
   "cell_type": "code",
   "execution_count": null,
   "id": "490282b4-0097-4b77-8e8a-001d1b0b718d",
   "metadata": {},
   "outputs": [],
   "source": []
  }
 ],
 "metadata": {
  "kernelspec": {
   "display_name": "Python 3 (ipykernel)",
   "language": "python",
   "name": "python3"
  },
  "language_info": {
   "codemirror_mode": {
    "name": "ipython",
    "version": 3
   },
   "file_extension": ".py",
   "mimetype": "text/x-python",
   "name": "python",
   "nbconvert_exporter": "python",
   "pygments_lexer": "ipython3",
   "version": "3.12.4"
  }
 },
 "nbformat": 4,
 "nbformat_minor": 5
}
